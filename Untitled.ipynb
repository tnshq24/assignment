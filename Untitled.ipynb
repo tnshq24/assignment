{
 "cells": [
  {
   "cell_type": "code",
   "execution_count": 22,
   "id": "ad534895-6c49-4459-82d4-e64ed9b6b19c",
   "metadata": {},
   "outputs": [
    {
     "name": "stdout",
     "output_type": "stream",
     "text": [
      "0\n",
      "1\n",
      "1\n",
      "2\n",
      "3\n",
      "5\n"
     ]
    }
   ],
   "source": [
    "# Q6\n",
    "def fib(n):\n",
    "    a,b = 0, 1\n",
    "    while n>0:\n",
    "        print(a)\n",
    "        a, b = b, a + b\n",
    "        n -= 1\n",
    "        \n",
    "fib(6)"
   ]
  },
  {
   "cell_type": "code",
   "execution_count": 4,
   "id": "04a8488d-932b-438f-b085-919409d2a52b",
   "metadata": {},
   "outputs": [
    {
     "name": "stdout",
     "output_type": "stream",
     "text": [
      "[1, 3, 5, 7, 9, 11, 13, 15, 17, 19, 21, 23, 25]\n"
     ]
    }
   ],
   "source": [
    "# Q1\n",
    "# def is used to create a function\n",
    "\n",
    "nums = [i for i in range(26)]\n",
    "\n",
    "def isOdd(nums):\n",
    "    res = []\n",
    "    for i in nums:\n",
    "        if i%2!=0:\n",
    "            res.append(i)\n",
    "    return res\n",
    "\n",
    "print(isOdd(nums))"
   ]
  },
  {
   "cell_type": "code",
   "execution_count": 10,
   "id": "1e4cb516-f872-4eab-ab79-ff03ed2f31a2",
   "metadata": {},
   "outputs": [
    {
     "name": "stdout",
     "output_type": "stream",
     "text": [
      "3 6 5 3 7 6 "
     ]
    },
    {
     "data": {
      "text/plain": [
       "{'a': 34, 'b': 'elephant', 'c': 34.55, 'd': [5, 12, 32, 98.4]}"
      ]
     },
     "execution_count": 10,
     "metadata": {},
     "output_type": "execute_result"
    }
   ],
   "source": [
    "# Q2\n",
    "def test(*args):\n",
    "    for i in args:\n",
    "        i += 1\n",
    "        print(i, end=' ')\n",
    "\n",
    "def test1(**kwargs):\n",
    "    return kwargs\n",
    "\n",
    "test(2,5,4,2,6,5)\n",
    "test1(a=34, b=\"elephant\", c=34.55, d=[5,12,32,98.4])"
   ]
  },
  {
   "cell_type": "code",
   "execution_count": 19,
   "id": "f17afd21-6d7f-47be-903c-68fe2a69f680",
   "metadata": {},
   "outputs": [
    {
     "name": "stdout",
     "output_type": "stream",
     "text": [
      "1\n",
      "2\n",
      "3\n",
      "4\n",
      "5\n",
      "6\n",
      "7\n",
      "8\n",
      "9\n",
      "10\n"
     ]
    }
   ],
   "source": [
    "# Q4\n",
    "def demo(n):\n",
    "    i = n - n + 1\n",
    "    while i < n +1:\n",
    "        yield i\n",
    "        i += 1\n",
    "for a in demo(10):\n",
    "    print(a)"
   ]
  },
  {
   "cell_type": "code",
   "execution_count": 13,
   "id": "4dcfd3e9-7ecb-45b9-8dc5-b3260b0b90fd",
   "metadata": {},
   "outputs": [
    {
     "name": "stdout",
     "output_type": "stream",
     "text": [
      "2 4 6 8 10 "
     ]
    }
   ],
   "source": [
    "# Q3\n",
    "l = [2, 4, 6, 8, 10, 12, 14, 16, 18, 20]\n",
    "for i in range(5):\n",
    "    print(l[i], end=' ')"
   ]
  },
  {
   "cell_type": "code",
   "execution_count": 32,
   "id": "272ea831-6d7c-4da3-a4fa-0cca7e087484",
   "metadata": {},
   "outputs": [
    {
     "name": "stdout",
     "output_type": "stream",
     "text": [
      "['p', 'w', 's', 'k', 'i', 'l', 'l', 's']\n"
     ]
    }
   ],
   "source": [
    "# Q7\n",
    "\n",
    "strs = 'pwskills'\n",
    "print(list(strs))"
   ]
  },
  {
   "cell_type": "code",
   "execution_count": 46,
   "id": "f653b778-5c4d-4ece-a94e-220aef253805",
   "metadata": {},
   "outputs": [
    {
     "name": "stdout",
     "output_type": "stream",
     "text": [
      "12321 is palindrome\n",
      "45132 is not palindrome\n"
     ]
    }
   ],
   "source": [
    "# Q8\n",
    "l = [12321, 23154]\n",
    "\n",
    "for i in l:\n",
    "    temp = i\n",
    "    r = 0\n",
    "    while i!=0:\n",
    "        d = i%10\n",
    "        r = d + r*10\n",
    "        i //=10\n",
    "    \n",
    "    if r==temp:\n",
    "        print(r, \"is palindrome\")\n",
    "    else:\n",
    "        print(r, \"is not palindrome\")\n"
   ]
  },
  {
   "cell_type": "code",
   "execution_count": 57,
   "id": "28846ed8-89d5-41a1-8664-3ead4cf4971b",
   "metadata": {},
   "outputs": [
    {
     "name": "stdout",
     "output_type": "stream",
     "text": [
      "[1, 3, 5, 7, 9, 11, 13, 15, 17, 19, 21, 23, 25, 27, 29, 31, 33, 35, 37, 39, 41, 43, 45, 47, 49, 51, 53, 55, 57, 59, 61, 63, 65, 67, 69, 71, 73, 75, 77, 79, 81, 83, 85, 87, 89, 91, 93, 95, 97, 99]\n"
     ]
    }
   ],
   "source": [
    "# Q9\n",
    "l = [i for i in range(100) if i%2!=0]\n",
    "print(l)"
   ]
  },
  {
   "cell_type": "code",
   "execution_count": 36,
   "id": "7d1fd7a1-77ab-4f7d-a2f6-e31a1d104a1e",
   "metadata": {},
   "outputs": [
    {
     "name": "stdout",
     "output_type": "stream",
     "text": [
      "3\n",
      "5\n",
      "7\n",
      "9\n",
      "11\n",
      "13\n",
      "15\n",
      "17\n",
      "19\n"
     ]
    }
   ],
   "source": [
    "# Q5\n",
    "def isprime(n):\n",
    "    if n<1000:\n",
    "        for i in range(2,n):\n",
    "            if i%2==0:\n",
    "                continue\n",
    "            else:\n",
    "                yield i\n",
    "                \n",
    "for a in isprime(20):\n",
    "    print(a)\n",
    "    "
   ]
  },
  {
   "cell_type": "code",
   "execution_count": null,
   "id": "c83c7d3c-cb58-4b5e-a931-e48700870a45",
   "metadata": {},
   "outputs": [],
   "source": []
  }
 ],
 "metadata": {
  "kernelspec": {
   "display_name": "Python 3 (ipykernel)",
   "language": "python",
   "name": "python3"
  },
  "language_info": {
   "codemirror_mode": {
    "name": "ipython",
    "version": 3
   },
   "file_extension": ".py",
   "mimetype": "text/x-python",
   "name": "python",
   "nbconvert_exporter": "python",
   "pygments_lexer": "ipython3",
   "version": "3.10.8"
  }
 },
 "nbformat": 4,
 "nbformat_minor": 5
}
